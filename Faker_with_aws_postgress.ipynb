{
 "cells": [
  {
   "cell_type": "code",
   "execution_count": 1,
   "id": "722fd975",
   "metadata": {},
   "outputs": [],
   "source": [
    "import psycopg2\n",
    "import pandas as pd\n",
    "from random import randint\n",
    "from sql_queries import drop_table_queries,create_table_queries\n",
    "from faker import Faker\n",
    "import configparser"
   ]
  },
  {
   "cell_type": "code",
   "execution_count": 2,
   "id": "d0bbf2f8",
   "metadata": {},
   "outputs": [],
   "source": [
    "config = configparser.ConfigParser()\n",
    "config.read('aws.cfg')\n",
    "host = config.get(\"LONDON_REGION\",\"host\")\n",
    "user = config.get(\"LONDON_REGION\",\"user\")\n",
    "dbname = config.get(\"LONDON_REGION\",\"dbname\")\n",
    "password = config.get(\"LONDON_REGION\",\"password\")"
   ]
  },
  {
   "cell_type": "markdown",
   "id": "dc4df18a",
   "metadata": {},
   "source": [
    "# Create Faker class"
   ]
  },
  {
   "cell_type": "code",
   "execution_count": 3,
   "id": "ad464e6c",
   "metadata": {},
   "outputs": [],
   "source": [
    "fake = Faker()"
   ]
  },
  {
   "cell_type": "markdown",
   "id": "fbef1c1f",
   "metadata": {},
   "source": [
    "# Create database"
   ]
  },
  {
   "cell_type": "code",
   "execution_count": 4,
   "id": "b5e11a09",
   "metadata": {},
   "outputs": [],
   "source": [
    "def create_database():\n",
    "    \"\"\"\n",
    "    -creates the database called hr\n",
    "    -return the connection and cursor to hr\n",
    "    \"\"\"\n",
    "    try:\n",
    "        conn = psycopg2.connect(\"host=\" + host + \" user=\" + user + \" password=\" + password)\n",
    "    except psycopg2.Error as e:\n",
    "        print(e)\n",
    "        \n",
    "    conn.set_session(autocommit=True)\n",
    "    curr = conn.cursor()\n",
    "    \n",
    "    curr.execute(\"drop database if exists hr\")\n",
    "    curr.execute(\"create database hr\")\n",
    "    \n",
    "    curr.close()\n",
    "    conn.close()\n",
    "    \n",
    "    conn_hr = psycopg2.connect(\"host=\" + host + \" user=\" + user + \" password=\" + password + \" dbname=\" + dbname)\n",
    "    cur_hr = conn_hr.cursor()\n",
    "    \n",
    "    return conn_hr, cur_hr"
   ]
  },
  {
   "cell_type": "code",
   "execution_count": 5,
   "id": "ae5577d7",
   "metadata": {},
   "outputs": [],
   "source": [
    "def drop_tables(conn,cur):\n",
    "    \"\"\"\n",
    "    --Drop all the tables in the database\n",
    "    \"\"\"\n",
    "    for query in drop_table_queries:\n",
    "        try:\n",
    "            cur.execute(query)\n",
    "            conn.commit()\n",
    "        except psycopg2.Error as e:\n",
    "            print(\"Error : Dropping table failed for\" + query)\n",
    "            print(e)"
   ]
  },
  {
   "cell_type": "code",
   "execution_count": 6,
   "id": "018ecf15",
   "metadata": {},
   "outputs": [],
   "source": [
    "def create_tables(conn, cur):\n",
    "    \"\"\"\n",
    "    --Create the tables using create_table_queries \n",
    "    \"\"\"\n",
    "    for query in create_table_queries:\n",
    "        try:\n",
    "            cur.execute(query)\n",
    "            conn.commit()\n",
    "        except psycopg2.Error as e:\n",
    "            print(\"Error : Create table failed for \" + query)\n",
    "            print(e)"
   ]
  },
  {
   "cell_type": "code",
   "execution_count": 7,
   "id": "67e21b78",
   "metadata": {},
   "outputs": [],
   "source": [
    "conn,cur = create_database()\n",
    "drop_tables(conn,cur)\n",
    "create_tables(conn,cur)"
   ]
  },
  {
   "cell_type": "code",
   "execution_count": 8,
   "id": "80305b6a",
   "metadata": {},
   "outputs": [],
   "source": [
    "fake_data_India= Faker(\"en_IN\")"
   ]
  },
  {
   "cell_type": "code",
   "execution_count": 9,
   "id": "820f33c1",
   "metadata": {},
   "outputs": [],
   "source": [
    "for i in range (10):\n",
    "    CityID =fake_data_India.random_int()\n",
    "    CityName = fake_data_India.city_name()\n",
    "    State = fake_data_India.state()\n",
    "    Pincode = fake_data_India.postcode()\n",
    "    try:\n",
    "        cur.execute(\"INSERT INTO City (CityID,CityName,State,Pincode) VALUES (%s, %s, %s, %s)\", (CityID,CityName,State,Pincode))\n",
    "    except psycopg2.Error as e:\n",
    "        print(e)"
   ]
  },
  {
   "cell_type": "code",
   "execution_count": 10,
   "id": "64c6655b",
   "metadata": {},
   "outputs": [],
   "source": [
    "try:\n",
    "    cur.execute(\"select * from City\")\n",
    "except psycopg2.Error as e:\n",
    "    print(e)\n",
    "\n",
    "row = cur.fetchall()"
   ]
  },
  {
   "cell_type": "code",
   "execution_count": 11,
   "id": "3f36db22",
   "metadata": {},
   "outputs": [
    {
     "data": {
      "text/plain": [
       "[(6430, 'Sirsa', 'Nagaland', '979194'),\n",
       " (2909, 'Udaipur', 'Uttarakhand', '678007'),\n",
       " (1120, 'Hosur', 'Maharashtra', '799354'),\n",
       " (654, 'Kurnool', 'Arunachal Pradesh', '260309'),\n",
       " (6414, 'Amaravati', 'Bihar', '349338'),\n",
       " (8264, 'Thrissur', 'Punjab', '654740'),\n",
       " (9429, 'Madhyamgram', 'Kerala', '002530'),\n",
       " (5544, 'Thiruvananthapuram', 'Chhattisgarh', '922837'),\n",
       " (8737, 'Kumbakonam', 'Meghalaya', '737623'),\n",
       " (5021, 'Aurangabad', 'Sikkim', '023259')]"
      ]
     },
     "execution_count": 11,
     "metadata": {},
     "output_type": "execute_result"
    }
   ],
   "source": [
    "row"
   ]
  },
  {
   "cell_type": "code",
   "execution_count": 12,
   "id": "ddbc749a",
   "metadata": {},
   "outputs": [
    {
     "data": {
      "text/html": [
       "<div>\n",
       "<style scoped>\n",
       "    .dataframe tbody tr th:only-of-type {\n",
       "        vertical-align: middle;\n",
       "    }\n",
       "\n",
       "    .dataframe tbody tr th {\n",
       "        vertical-align: top;\n",
       "    }\n",
       "\n",
       "    .dataframe thead th {\n",
       "        text-align: right;\n",
       "    }\n",
       "</style>\n",
       "<table border=\"1\" class=\"dataframe\">\n",
       "  <thead>\n",
       "    <tr style=\"text-align: right;\">\n",
       "      <th></th>\n",
       "      <th>CItyID</th>\n",
       "      <th>CityName</th>\n",
       "      <th>State</th>\n",
       "      <th>Pincode</th>\n",
       "    </tr>\n",
       "  </thead>\n",
       "  <tbody>\n",
       "    <tr>\n",
       "      <th>0</th>\n",
       "      <td>6430</td>\n",
       "      <td>Sirsa</td>\n",
       "      <td>Nagaland</td>\n",
       "      <td>979194</td>\n",
       "    </tr>\n",
       "    <tr>\n",
       "      <th>1</th>\n",
       "      <td>2909</td>\n",
       "      <td>Udaipur</td>\n",
       "      <td>Uttarakhand</td>\n",
       "      <td>678007</td>\n",
       "    </tr>\n",
       "    <tr>\n",
       "      <th>2</th>\n",
       "      <td>1120</td>\n",
       "      <td>Hosur</td>\n",
       "      <td>Maharashtra</td>\n",
       "      <td>799354</td>\n",
       "    </tr>\n",
       "    <tr>\n",
       "      <th>3</th>\n",
       "      <td>654</td>\n",
       "      <td>Kurnool</td>\n",
       "      <td>Arunachal Pradesh</td>\n",
       "      <td>260309</td>\n",
       "    </tr>\n",
       "    <tr>\n",
       "      <th>4</th>\n",
       "      <td>6414</td>\n",
       "      <td>Amaravati</td>\n",
       "      <td>Bihar</td>\n",
       "      <td>349338</td>\n",
       "    </tr>\n",
       "    <tr>\n",
       "      <th>5</th>\n",
       "      <td>8264</td>\n",
       "      <td>Thrissur</td>\n",
       "      <td>Punjab</td>\n",
       "      <td>654740</td>\n",
       "    </tr>\n",
       "    <tr>\n",
       "      <th>6</th>\n",
       "      <td>9429</td>\n",
       "      <td>Madhyamgram</td>\n",
       "      <td>Kerala</td>\n",
       "      <td>002530</td>\n",
       "    </tr>\n",
       "    <tr>\n",
       "      <th>7</th>\n",
       "      <td>5544</td>\n",
       "      <td>Thiruvananthapuram</td>\n",
       "      <td>Chhattisgarh</td>\n",
       "      <td>922837</td>\n",
       "    </tr>\n",
       "    <tr>\n",
       "      <th>8</th>\n",
       "      <td>8737</td>\n",
       "      <td>Kumbakonam</td>\n",
       "      <td>Meghalaya</td>\n",
       "      <td>737623</td>\n",
       "    </tr>\n",
       "    <tr>\n",
       "      <th>9</th>\n",
       "      <td>5021</td>\n",
       "      <td>Aurangabad</td>\n",
       "      <td>Sikkim</td>\n",
       "      <td>023259</td>\n",
       "    </tr>\n",
       "  </tbody>\n",
       "</table>\n",
       "</div>"
      ],
      "text/plain": [
       "   CItyID            CityName              State Pincode\n",
       "0    6430               Sirsa           Nagaland  979194\n",
       "1    2909             Udaipur        Uttarakhand  678007\n",
       "2    1120               Hosur        Maharashtra  799354\n",
       "3     654             Kurnool  Arunachal Pradesh  260309\n",
       "4    6414           Amaravati              Bihar  349338\n",
       "5    8264            Thrissur             Punjab  654740\n",
       "6    9429         Madhyamgram             Kerala  002530\n",
       "7    5544  Thiruvananthapuram       Chhattisgarh  922837\n",
       "8    8737          Kumbakonam          Meghalaya  737623\n",
       "9    5021          Aurangabad             Sikkim  023259"
      ]
     },
     "execution_count": 12,
     "metadata": {},
     "output_type": "execute_result"
    }
   ],
   "source": [
    "city_df = pd.DataFrame(row, columns =['CItyID', 'CityName','State','Pincode'])\n",
    "city_df"
   ]
  },
  {
   "cell_type": "code",
   "execution_count": 13,
   "id": "b472a6f2",
   "metadata": {},
   "outputs": [],
   "source": [
    "for i in range (10):\n",
    "    employeeid=fake_data_India.random_int()\n",
    "    employeefirstname = fake_data_India.first_name()\n",
    "    employeelastname=fake_data_India.last_name() \n",
    "    employeecityID = fake_data_India.random_int()\n",
    "    try:\n",
    "        cur.execute(\"INSERT INTO employee(employeeid,employeefirstname,employeelastname,employeecityID) VALUES (%s, %s, %s, %s)\", (employeeid,employeefirstname,employeelastname,employeecityID))\n",
    "    except psycopg2.Error as e:\n",
    "        print(e)"
   ]
  },
  {
   "cell_type": "code",
   "execution_count": 14,
   "id": "803838e5",
   "metadata": {},
   "outputs": [],
   "source": [
    "try:\n",
    "    cur.execute(\"select * from employee\")\n",
    "except psycopg2.Error as e:\n",
    "    print(e)\n",
    "\n",
    "row1 = cur.fetchall()"
   ]
  },
  {
   "cell_type": "code",
   "execution_count": 15,
   "id": "920db293",
   "metadata": {},
   "outputs": [
    {
     "data": {
      "text/plain": [
       "[(5463, 'Stuvan', 'Rajagopal', 8839),\n",
       " (5261, 'Kashvi', 'Jain', 3830),\n",
       " (4244, 'Umang', 'Batta', 552),\n",
       " (2370, 'Nirvi', 'Sachar', 3328),\n",
       " (8663, 'Indranil', 'Ben', 8629),\n",
       " (5967, 'Kavya', 'Venkatesh', 7048),\n",
       " (5677, 'Anika', 'Char', 9009),\n",
       " (5063, 'Adira', 'Goel', 9096),\n",
       " (4905, 'Tara', 'Mane', 3899),\n",
       " (1148, 'Aaina', 'Chaudhuri', 1934)]"
      ]
     },
     "execution_count": 15,
     "metadata": {},
     "output_type": "execute_result"
    }
   ],
   "source": [
    "row1"
   ]
  },
  {
   "cell_type": "code",
   "execution_count": 16,
   "id": "e7b39b6a",
   "metadata": {},
   "outputs": [
    {
     "data": {
      "text/html": [
       "<div>\n",
       "<style scoped>\n",
       "    .dataframe tbody tr th:only-of-type {\n",
       "        vertical-align: middle;\n",
       "    }\n",
       "\n",
       "    .dataframe tbody tr th {\n",
       "        vertical-align: top;\n",
       "    }\n",
       "\n",
       "    .dataframe thead th {\n",
       "        text-align: right;\n",
       "    }\n",
       "</style>\n",
       "<table border=\"1\" class=\"dataframe\">\n",
       "  <thead>\n",
       "    <tr style=\"text-align: right;\">\n",
       "      <th></th>\n",
       "      <th>employeeid</th>\n",
       "      <th>employeefirstname</th>\n",
       "      <th>employeelastname</th>\n",
       "      <th>employeecityID</th>\n",
       "    </tr>\n",
       "  </thead>\n",
       "  <tbody>\n",
       "    <tr>\n",
       "      <th>0</th>\n",
       "      <td>5463</td>\n",
       "      <td>Stuvan</td>\n",
       "      <td>Rajagopal</td>\n",
       "      <td>8839</td>\n",
       "    </tr>\n",
       "    <tr>\n",
       "      <th>1</th>\n",
       "      <td>5261</td>\n",
       "      <td>Kashvi</td>\n",
       "      <td>Jain</td>\n",
       "      <td>3830</td>\n",
       "    </tr>\n",
       "    <tr>\n",
       "      <th>2</th>\n",
       "      <td>4244</td>\n",
       "      <td>Umang</td>\n",
       "      <td>Batta</td>\n",
       "      <td>552</td>\n",
       "    </tr>\n",
       "    <tr>\n",
       "      <th>3</th>\n",
       "      <td>2370</td>\n",
       "      <td>Nirvi</td>\n",
       "      <td>Sachar</td>\n",
       "      <td>3328</td>\n",
       "    </tr>\n",
       "    <tr>\n",
       "      <th>4</th>\n",
       "      <td>8663</td>\n",
       "      <td>Indranil</td>\n",
       "      <td>Ben</td>\n",
       "      <td>8629</td>\n",
       "    </tr>\n",
       "    <tr>\n",
       "      <th>5</th>\n",
       "      <td>5967</td>\n",
       "      <td>Kavya</td>\n",
       "      <td>Venkatesh</td>\n",
       "      <td>7048</td>\n",
       "    </tr>\n",
       "    <tr>\n",
       "      <th>6</th>\n",
       "      <td>5677</td>\n",
       "      <td>Anika</td>\n",
       "      <td>Char</td>\n",
       "      <td>9009</td>\n",
       "    </tr>\n",
       "    <tr>\n",
       "      <th>7</th>\n",
       "      <td>5063</td>\n",
       "      <td>Adira</td>\n",
       "      <td>Goel</td>\n",
       "      <td>9096</td>\n",
       "    </tr>\n",
       "    <tr>\n",
       "      <th>8</th>\n",
       "      <td>4905</td>\n",
       "      <td>Tara</td>\n",
       "      <td>Mane</td>\n",
       "      <td>3899</td>\n",
       "    </tr>\n",
       "    <tr>\n",
       "      <th>9</th>\n",
       "      <td>1148</td>\n",
       "      <td>Aaina</td>\n",
       "      <td>Chaudhuri</td>\n",
       "      <td>1934</td>\n",
       "    </tr>\n",
       "  </tbody>\n",
       "</table>\n",
       "</div>"
      ],
      "text/plain": [
       "   employeeid employeefirstname employeelastname  employeecityID\n",
       "0        5463            Stuvan        Rajagopal            8839\n",
       "1        5261            Kashvi             Jain            3830\n",
       "2        4244             Umang            Batta             552\n",
       "3        2370             Nirvi           Sachar            3328\n",
       "4        8663          Indranil              Ben            8629\n",
       "5        5967             Kavya        Venkatesh            7048\n",
       "6        5677             Anika             Char            9009\n",
       "7        5063             Adira             Goel            9096\n",
       "8        4905              Tara             Mane            3899\n",
       "9        1148             Aaina        Chaudhuri            1934"
      ]
     },
     "execution_count": 16,
     "metadata": {},
     "output_type": "execute_result"
    }
   ],
   "source": [
    "employee_df = pd.DataFrame(row1, columns =['employeeid','employeefirstname','employeelastname','employeecityID'])\n",
    "employee_df"
   ]
  }
 ],
 "metadata": {
  "kernelspec": {
   "display_name": "Python 3 (ipykernel)",
   "language": "python",
   "name": "python3"
  },
  "language_info": {
   "codemirror_mode": {
    "name": "ipython",
    "version": 3
   },
   "file_extension": ".py",
   "mimetype": "text/x-python",
   "name": "python",
   "nbconvert_exporter": "python",
   "pygments_lexer": "ipython3",
   "version": "3.9.13"
  }
 },
 "nbformat": 4,
 "nbformat_minor": 5
}
